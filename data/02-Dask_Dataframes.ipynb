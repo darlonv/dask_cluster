{
 "cells": [
  {
   "cell_type": "markdown",
   "id": "4a422c9e",
   "metadata": {},
   "source": [
    "## Dask Dataframes"
   ]
  },
  {
   "cell_type": "markdown",
   "id": "54656e93",
   "metadata": {},
   "source": [
    "Dask possibilita que também sejam utilizados dataframes para processamento paralelo e distribuído."
   ]
  },
  {
   "cell_type": "markdown",
   "id": "dc85c80e",
   "metadata": {},
   "source": [
    "Como exemplo, carregaremos arquivos referentes a registros de vôos no aeroporto de Nova York:\n",
    "\n",
    "Para fazer o download da base:\n",
    "\n",
    "```python\n",
    "import urllib, tarfile\n",
    "print('Realizando download...', end=' ')\n",
    "url = 'https://storage.googleapis.com/dask-tutorial-data/nycflights.tar.gz'\n",
    "filename, headers = urllib.request.urlretrieve(url, 'nycflights.tar.gz')\n",
    "print('pronto.')\n",
    "\n",
    "print('Descompactando...', end=' ')\n",
    "with tarfile.open(filename, mode='r:gz') as flights:\n",
    "    flights.extractall('base/')\n",
    "print('pronto.')\n",
    "!ls base/nycflights\n",
    "```"
   ]
  },
  {
   "cell_type": "code",
   "execution_count": null,
   "id": "197df94a",
   "metadata": {},
   "outputs": [],
   "source": []
  },
  {
   "cell_type": "markdown",
   "id": "2dc44749",
   "metadata": {},
   "source": [
    "Como comparação, carregaremos primeiramente a base utilizando Pandas:\n",
    "\n",
    "```python\n",
    "import pandas as pd\n",
    "from glob import glob\n",
    "\n",
    "df_pandas = pd.concat([pd.read_csv(file) for file in glob('base/nycflights/*.csv')])\n",
    "```\n"
   ]
  },
  {
   "cell_type": "code",
   "execution_count": null,
   "id": "af123efb",
   "metadata": {},
   "outputs": [],
   "source": []
  },
  {
   "cell_type": "markdown",
   "id": "92368341",
   "metadata": {},
   "source": [
    "Para abrir diversas bases, cada uma foi carregada em dataframe e armazenada em uma lista. Em seguida, estes dataframes foram concatenados, formando um único dataframe.\n",
    "\n",
    "```python\n",
    "df_pandas\n",
    "```"
   ]
  },
  {
   "cell_type": "code",
   "execution_count": null,
   "id": "9e2efff6",
   "metadata": {},
   "outputs": [],
   "source": []
  },
  {
   "cell_type": "markdown",
   "id": "2f40f6b9",
   "metadata": {},
   "source": [
    "Agora carregamos as bases utilizando Dask dataframes:\n",
    "\n",
    "```python\n",
    "import dask.dataframe as dd\n",
    "\n",
    "df = dd.read_csv('base/nycflights/*.csv')\n",
    "```"
   ]
  },
  {
   "cell_type": "code",
   "execution_count": null,
   "id": "76632e49",
   "metadata": {},
   "outputs": [],
   "source": []
  },
  {
   "cell_type": "code",
   "execution_count": null,
   "id": "4c232a3b",
   "metadata": {
    "scrolled": true
   },
   "outputs": [],
   "source": []
  },
  {
   "cell_type": "markdown",
   "id": "1abd05e7",
   "metadata": {},
   "source": [
    "**Atividade**\n",
    "- Inicialmente, quais foram as diferenças?\n",
    "    - ao carregar a base, com `.read_csv()`\n",
    "    - ao visualizar a base"
   ]
  },
  {
   "cell_type": "markdown",
   "id": "4ba97733",
   "metadata": {},
   "source": [
    "Podemos visualizar mais informações sobre o dataframe:\n",
    "\n",
    "```python\n",
    "df.dask\n",
    "```"
   ]
  },
  {
   "cell_type": "code",
   "execution_count": null,
   "id": "5e4f37a0",
   "metadata": {},
   "outputs": [],
   "source": []
  },
  {
   "cell_type": "markdown",
   "id": "789092ef",
   "metadata": {},
   "source": [
    "Vamos observar também o DAG gerado:\n",
    "\n",
    "```python\n",
    "df.visualize()\n",
    "```"
   ]
  },
  {
   "cell_type": "code",
   "execution_count": null,
   "id": "ef503cfb",
   "metadata": {
    "scrolled": true
   },
   "outputs": [],
   "source": []
  },
  {
   "cell_type": "markdown",
   "id": "42c20815",
   "metadata": {},
   "source": [
    "Um Dask Dataframe é composto por um conjunto de Pandas Dataframes. \n",
    "\n",
    "<!-- ![Dask dataframes](https://docs.dask.org/en/stable/_images/dask-dataframe.svg) -->\n",
    "<img src=\"https://docs.dask.org/en/stable/_images/dask-dataframe.svg\"  width=\"30%\" height=\"30%\">\n",
    "\n",
    "Imagem: [Dask DataFrame](https://docs.dask.org/en/stable/dataframe.html)\n",
    "\n",
    "Vamos observar o tipo de dado que compõe a estrutura destes dataframes:\n",
    "\n",
    "```python\n",
    "type(df.partitions[0].compute())\n",
    "```"
   ]
  },
  {
   "cell_type": "code",
   "execution_count": null,
   "id": "906fea9e",
   "metadata": {},
   "outputs": [],
   "source": []
  },
  {
   "cell_type": "markdown",
   "id": "21ac51f3",
   "metadata": {},
   "source": [
    "E também a quantidade de dataframes:\n",
    "\n",
    "```python\n",
    "len(list(df.partitions))\n",
    "```"
   ]
  },
  {
   "cell_type": "code",
   "execution_count": null,
   "id": "0406275a",
   "metadata": {},
   "outputs": [],
   "source": []
  },
  {
   "cell_type": "markdown",
   "id": "093c2aa4",
   "metadata": {},
   "source": [
    "Os arquivos ainda não foram carregados. Este passo será realizado ao executar o método `.compute()`.\n",
    "\n",
    "Faremos isso em diferentes partes, observando alguns pontos.\n",
    "\n",
    "```python\n",
    "df.head()\n",
    "```"
   ]
  },
  {
   "cell_type": "code",
   "execution_count": null,
   "id": "dfbd950f",
   "metadata": {
    "scrolled": true
   },
   "outputs": [],
   "source": []
  },
  {
   "cell_type": "markdown",
   "id": "454c71c8",
   "metadata": {},
   "source": [
    "Neste passo, observaremos um erro.\n",
    "\n",
    "```python\n",
    "df.tail()\n",
    "```"
   ]
  },
  {
   "cell_type": "code",
   "execution_count": null,
   "id": "63b28038",
   "metadata": {},
   "outputs": [],
   "source": []
  },
  {
   "cell_type": "markdown",
   "id": "c52a3e1f",
   "metadata": {},
   "source": [
    "Ao observar os erros:\n",
    "\n",
    "```\n",
    "ValueError: Mismatched dtypes found in `pd.read_csv`/`pd.read_table`.\n",
    "\n",
    "+----------------+---------+----------+\n",
    "| Column         | Found   | Expected |\n",
    "+----------------+---------+----------+\n",
    "| CRSElapsedTime | float64 | int64    |\n",
    "| TailNum        | object  | float64  |\n",
    "+----------------+---------+----------+\n",
    "```\n",
    "\n",
    "Este erro ocorreu porque o Dask estimou os tipos de dados com base nas primeiras linhas. Porém, haviam outras linhas da base em que o tipo de dado na coluna era diferente.\n",
    "\n",
    "Para corrigir estes erros, devemos informar manualmente os tipos de dados de algumas colunas ao carregar a base.\n",
    "\n",
    "```python\n",
    "df = dd.read_csv('base/nycflights/*.csv', dtype={'TailNum': str, 'CRSElapsedTime':float})\n",
    "df.tail()\n",
    "```"
   ]
  },
  {
   "cell_type": "code",
   "execution_count": null,
   "id": "728112d0",
   "metadata": {},
   "outputs": [],
   "source": []
  },
  {
   "cell_type": "code",
   "execution_count": null,
   "id": "c7bbc561",
   "metadata": {
    "scrolled": true
   },
   "outputs": [],
   "source": []
  },
  {
   "cell_type": "markdown",
   "id": "e1383fe9",
   "metadata": {},
   "source": [
    "## Realizando operações\n",
    "\n",
    "Como exemplo, vamos tentar obter o maior valor presente em cada coluna, utilizando o método `.max()`.\n",
    "\n",
    "```python\n",
    "df_maiores = df.max()\n",
    "```"
   ]
  },
  {
   "cell_type": "code",
   "execution_count": null,
   "id": "fc1227c6",
   "metadata": {},
   "outputs": [],
   "source": []
  },
  {
   "cell_type": "markdown",
   "id": "7e275294",
   "metadata": {},
   "source": [
    "Observando o DAG:\n",
    "```python\n",
    "maiores_valores.visualize()\n",
    "```\n",
    "ou então, apresentando com outro *layout*:\n",
    "```python\n",
    "df_maiores.visualize(rankdir='LR', size='12,12!')\n",
    "```"
   ]
  },
  {
   "cell_type": "code",
   "execution_count": null,
   "id": "3c1e33f2",
   "metadata": {},
   "outputs": [],
   "source": []
  },
  {
   "cell_type": "markdown",
   "id": "637ad350",
   "metadata": {},
   "source": [
    "Ou então\n",
    "```python\n",
    "df_maiores.visualize(rankdir='LR', size='12,12!')\n",
    "```"
   ]
  },
  {
   "cell_type": "markdown",
   "id": "d3e69e8a",
   "metadata": {},
   "source": [
    "Calculando os maiores valores\n",
    "```python\n",
    "df_maiores.compute()\n",
    "```"
   ]
  },
  {
   "cell_type": "code",
   "execution_count": null,
   "id": "66c7f84d",
   "metadata": {},
   "outputs": [],
   "source": []
  },
  {
   "cell_type": "code",
   "execution_count": null,
   "id": "187d608b",
   "metadata": {},
   "outputs": [],
   "source": []
  },
  {
   "cell_type": "markdown",
   "id": "4f9e3b8f",
   "metadata": {},
   "source": [
    "Obtendo os maiores valores de uma única coluna:\n",
    "\n",
    "```python\n",
    "depDelay_max = df['DepDelay'].max()\n",
    "```\n",
    "\n"
   ]
  },
  {
   "cell_type": "code",
   "execution_count": null,
   "id": "2f4e4046",
   "metadata": {},
   "outputs": [],
   "source": []
  },
  {
   "cell_type": "markdown",
   "id": "abc97fe9",
   "metadata": {},
   "source": [
    "```python\n",
    "depDelay_max.visualize()\n",
    "```"
   ]
  },
  {
   "cell_type": "code",
   "execution_count": null,
   "id": "0ff19cf3",
   "metadata": {},
   "outputs": [],
   "source": []
  },
  {
   "cell_type": "markdown",
   "id": "095d48ca",
   "metadata": {},
   "source": [
    "Compare com o DAG anterior (maior valor de todas as colunas):\n",
    "```python\n",
    "df.max().visualize()\n",
    "```"
   ]
  },
  {
   "cell_type": "code",
   "execution_count": null,
   "id": "7b324493",
   "metadata": {},
   "outputs": [],
   "source": []
  },
  {
   "cell_type": "code",
   "execution_count": null,
   "id": "2a258283",
   "metadata": {},
   "outputs": [],
   "source": []
  },
  {
   "cell_type": "markdown",
   "id": "da4b393a",
   "metadata": {},
   "source": [
    "## Referências\n",
    "\n",
    "- [Dask. Scale the Python tools you love.](https://docs.dask.org/en/stable/)  \n",
    "- [BOCHMAN, D. Dask: Machine Learning & Data Science Open-source Spotlight. Youtube.](https://www.youtube.com/watch?v=Alwgx_1qsj4&t=755s)\n",
    "- [ROCKLIN, M. Dask DataFrame: An Introduction. Youtube](https://www.youtube.com/watch?v=AT2XtFehFSQ&t=262s)"
   ]
  },
  {
   "cell_type": "code",
   "execution_count": null,
   "id": "9f2df59d",
   "metadata": {},
   "outputs": [],
   "source": []
  }
 ],
 "metadata": {
  "kernelspec": {
   "display_name": "Python 3 (ipykernel)",
   "language": "python",
   "name": "python3"
  },
  "language_info": {
   "codemirror_mode": {
    "name": "ipython",
    "version": 3
   },
   "file_extension": ".py",
   "mimetype": "text/x-python",
   "name": "python",
   "nbconvert_exporter": "python",
   "pygments_lexer": "ipython3",
   "version": "3.10.8"
  }
 },
 "nbformat": 4,
 "nbformat_minor": 5
}
