{
 "cells": [
  {
   "cell_type": "markdown",
   "id": "ffd1e568",
   "metadata": {},
   "source": [
    "## Dask"
   ]
  },
  {
   "cell_type": "markdown",
   "id": "420d8ee1",
   "metadata": {},
   "source": [
    "Dask é uma biblioteca para computação paralela em Python. É composto de duas partes:\n",
    "- *Big Data collections*: estruturas de dados que utilizam Numpy, Pandas or *iterators*, aplicando-os para ambientes distribuídos e utilizando técnicas para carregamento e processamento de grandes quantidades de dados;\n",
    "- *Dynamic task scheduling*: escalonador que realiza a execução paralela e distribuída das estruturas existentes em Dask.\n",
    "\n",
    "![im](https://docs.dask.org/en/stable/_images/dask-overview.svg)\n",
    "Imagem: [Dask.org](https://docs.dask.org/en/stable/)\n",
    "\n",
    "\n"
   ]
  },
  {
   "cell_type": "markdown",
   "id": "47ae9547",
   "metadata": {},
   "source": [
    "```python\n",
    "from time import sleep\n",
    "```"
   ]
  },
  {
   "cell_type": "code",
   "execution_count": null,
   "id": "9109a786",
   "metadata": {},
   "outputs": [],
   "source": []
  },
  {
   "cell_type": "markdown",
   "id": "256fad2c",
   "metadata": {},
   "source": [
    "Como abordagem inicial, definiremos duas funções. Nelas, é adicionado um tempo de processamento extra de 1 segundo."
   ]
  },
  {
   "cell_type": "markdown",
   "id": "7d20d1a6",
   "metadata": {},
   "source": [
    "```python\n",
    "#Incremento e adição\n",
    "def inc_ser(x):\n",
    "    print('.', end='')\n",
    "    sleep(1)\n",
    "    return x+1\n",
    "\n",
    "def add_ser(x,y):\n",
    "    print('.', end='')\n",
    "    sleep(1)\n",
    "    return x+y\n",
    "```"
   ]
  },
  {
   "cell_type": "code",
   "execution_count": null,
   "id": "30eec65f",
   "metadata": {},
   "outputs": [],
   "source": []
  },
  {
   "cell_type": "markdown",
   "id": "fff6e6bc",
   "metadata": {},
   "source": [
    "Definidas as funções, realizaremos o cálculo de da seguinte operação e observaremos o tempo de exeução:\n",
    "```python\n",
    "%%time\n",
    "x = inc_ser(10)\n",
    "y = inc_ser(20)\n",
    "z = add_ser(x,y)\n",
    "print()\n",
    "```"
   ]
  },
  {
   "cell_type": "code",
   "execution_count": null,
   "id": "21dd9a7c",
   "metadata": {
    "scrolled": true
   },
   "outputs": [],
   "source": []
  },
  {
   "cell_type": "markdown",
   "id": "126f9572",
   "metadata": {},
   "source": [
    "Aqui, é esperado que tome um tempo de 3 segundos, visto que para cada incremento é aguardado 1 segundo, acrescido de 1 segundo da operação de soma."
   ]
  },
  {
   "cell_type": "markdown",
   "id": "1ff972eb",
   "metadata": {},
   "source": [
    "Uma importante função no dask é o método `delayed`. Observe seu uso a seguir.\n",
    "\n",
    "```python\n",
    "import dask\n",
    "from dask import delayed\n",
    "```"
   ]
  },
  {
   "cell_type": "code",
   "execution_count": null,
   "id": "6897425e",
   "metadata": {},
   "outputs": [],
   "source": []
  },
  {
   "cell_type": "markdown",
   "id": "a784e88c",
   "metadata": {},
   "source": [
    "A função `delayed` é preparada para que seja usada como um *python decorator*, podendo ser aplicada a qualquer função.\n",
    "\n",
    "```python\n",
    "#Incremento e adição realizado utilizando delayed\n",
    "@delayed\n",
    "def inc(x):\n",
    "    print('.', end='')\n",
    "    sleep(1)\n",
    "    return x+1\n",
    "\n",
    "@delayed\n",
    "def add(x,y):\n",
    "    print('.', end='')\n",
    "    sleep(1)\n",
    "    return x+y\n",
    "```"
   ]
  },
  {
   "cell_type": "code",
   "execution_count": null,
   "id": "f496eed8",
   "metadata": {},
   "outputs": [],
   "source": []
  },
  {
   "cell_type": "markdown",
   "id": "34e1a3af",
   "metadata": {},
   "source": [
    "Em seguida, execute a chamada às funções modificadas com o uso do `delayed`:\n",
    "\n",
    "```python\n",
    "%%time\n",
    "x = inc(10)\n",
    "y = inc(20)\n",
    "z = add(x,y)\n",
    "print()\n",
    "```"
   ]
  },
  {
   "cell_type": "code",
   "execution_count": null,
   "id": "08284363",
   "metadata": {},
   "outputs": [],
   "source": [
    "\n"
   ]
  },
  {
   "cell_type": "markdown",
   "id": "59bc4dc1",
   "metadata": {},
   "source": [
    "Observemos que o código retorna imediamente. Isso porque o cálculo não foi realmente executado. Apenas foi criado o grafo DAG com as operações. Inclusive, podemos visualizar o grafo:\n",
    "\n",
    "```python\n",
    "z.visualize()\n",
    "```"
   ]
  },
  {
   "cell_type": "code",
   "execution_count": null,
   "id": "69e072a4",
   "metadata": {},
   "outputs": [],
   "source": []
  },
  {
   "cell_type": "markdown",
   "id": "8e960140",
   "metadata": {},
   "source": [
    "Observe que as operações `inc` estão no mesmo nível, indicando que serão executadas em paralelo. Seus resultados serão passados à operação `add`.\n",
    "\n",
    "Precisamos explicitar que a computação será realizada, com o método `.compute()`.\n",
    "\n",
    "```python\n",
    "z.compute()\n",
    "```"
   ]
  },
  {
   "cell_type": "code",
   "execution_count": null,
   "id": "2c612af2",
   "metadata": {
    "scrolled": true
   },
   "outputs": [],
   "source": []
  },
  {
   "cell_type": "markdown",
   "id": "36ddb374",
   "metadata": {},
   "source": [
    "Agora aplicaremos estas mesmas comparações utilizando valores de uma lista."
   ]
  },
  {
   "cell_type": "code",
   "execution_count": null,
   "id": "31a0fcd9",
   "metadata": {
    "scrolled": false
   },
   "outputs": [],
   "source": []
  },
  {
   "cell_type": "code",
   "execution_count": null,
   "id": "ccc92f50",
   "metadata": {},
   "outputs": [],
   "source": []
  },
  {
   "cell_type": "markdown",
   "id": "911714ce",
   "metadata": {},
   "source": [
    "Visulizemos o DAG gerado:\n",
    "```python\n",
    "soma.visualize()\n",
    "```"
   ]
  },
  {
   "cell_type": "code",
   "execution_count": null,
   "id": "ebac2497",
   "metadata": {
    "scrolled": true
   },
   "outputs": [],
   "source": []
  },
  {
   "cell_type": "markdown",
   "id": "7c626e5c",
   "metadata": {},
   "source": [
    "Vamos calcular e observar o tempo necessário para o processamento.\n",
    "```python\n",
    "%%time\n",
    "result = soma.compute()\n",
    "print()\n",
    "print(result)\n",
    "```"
   ]
  },
  {
   "cell_type": "code",
   "execution_count": null,
   "id": "3ef378e4",
   "metadata": {
    "scrolled": true
   },
   "outputs": [],
   "source": []
  },
  {
   "cell_type": "markdown",
   "id": "44f8d89b",
   "metadata": {},
   "source": [
    "### Dask client\n",
    "\n",
    "Podemos instanciar na máquina local o escalonador Dask, ao executar `Client` sem parâmetros:\n",
    "\n",
    "```python\n",
    "from dask.distributed import Client\n",
    "client = Client()\n",
    "```"
   ]
  },
  {
   "cell_type": "code",
   "execution_count": null,
   "id": "e5bacfd8",
   "metadata": {},
   "outputs": [],
   "source": []
  },
  {
   "cell_type": "markdown",
   "id": "18863dc1",
   "metadata": {},
   "source": [
    "Após instanciar o escalonador, podemos acessar seu *dashboard* na porta `8787`. Para tal, acesse:\n",
    "\n",
    "[http://localhost:8787](http://localhost:8787)\n"
   ]
  },
  {
   "cell_type": "code",
   "execution_count": null,
   "id": "da030060",
   "metadata": {},
   "outputs": [],
   "source": []
  },
  {
   "cell_type": "markdown",
   "id": "7ff606d9",
   "metadata": {},
   "source": [
    "Observando o *dashboard* do escalonador, execute o método `.compute()`:\n",
    "\n",
    "```python\n",
    "%%time\n",
    "z.compute()\n",
    "```"
   ]
  },
  {
   "cell_type": "code",
   "execution_count": null,
   "id": "ca5f4840",
   "metadata": {},
   "outputs": [],
   "source": []
  },
  {
   "cell_type": "markdown",
   "id": "2a4e046e",
   "metadata": {},
   "source": [
    "Execute novamente teste anterior:\n",
    "\n",
    "```python\n",
    "%%time\n",
    "values = list(range(10,25))\n",
    "results = []\n",
    "for x in values:\n",
    "    y = delayed(inc)(x)\n",
    "    results.append(y)\n",
    "    \n",
    "total = delayed(sum)(results)\n",
    "total.visualize()\n",
    "```"
   ]
  },
  {
   "cell_type": "code",
   "execution_count": null,
   "id": "18d93a82",
   "metadata": {},
   "outputs": [],
   "source": []
  },
  {
   "cell_type": "markdown",
   "id": "c801c6fd",
   "metadata": {},
   "source": [
    "Novamente, execute o método `.compute()` observando o *dashboard*: \n",
    "\n",
    "```python\n",
    "%%time\n",
    "total.compute()\n",
    "```"
   ]
  },
  {
   "cell_type": "code",
   "execution_count": null,
   "id": "a3a6fcec",
   "metadata": {},
   "outputs": [],
   "source": []
  },
  {
   "cell_type": "markdown",
   "id": "80a6482d",
   "metadata": {},
   "source": [
    "É possível também configurar a quantidade de *threads* que serão utilizadas para o processamento.\n",
    "\n",
    "Primeiro, fecharemos o escalonador alocado previamente:\n",
    "\n",
    "```python\n",
    "client.close()\n",
    "```"
   ]
  },
  {
   "cell_type": "code",
   "execution_count": null,
   "id": "878e5d45",
   "metadata": {},
   "outputs": [],
   "source": []
  },
  {
   "cell_type": "markdown",
   "id": "03d48cdb",
   "metadata": {},
   "source": [
    "Em seguida, alocaremos um novo escalonador, definindo um novo número de *threads*:\n",
    "\n",
    "```python\n",
    "client = Client(n_workers=8)\n",
    "```"
   ]
  },
  {
   "cell_type": "code",
   "execution_count": null,
   "id": "b5fcf0d5",
   "metadata": {},
   "outputs": [],
   "source": []
  },
  {
   "cell_type": "markdown",
   "id": "610d97f1",
   "metadata": {},
   "source": [
    "Atualize a página do *dashboard*, para que sejam acessadas informações refentes à nova instância do escalonador. Após atualizar a página, calcule novamente a soma dos valores na lista e observe o tempo de execução.\n",
    "\n",
    "```python\n",
    "%%time\n",
    "print(total.compute())\n",
    "```"
   ]
  },
  {
   "cell_type": "code",
   "execution_count": null,
   "id": "248a56f5",
   "metadata": {},
   "outputs": [],
   "source": []
  },
  {
   "cell_type": "code",
   "execution_count": null,
   "id": "f767b865",
   "metadata": {},
   "outputs": [],
   "source": []
  },
  {
   "cell_type": "markdown",
   "id": "3f0ce0ac",
   "metadata": {},
   "source": [
    "Como exemplo, execute utilizando uma quantidade maior de elementos:\n",
    "\n",
    "```python\n",
    "%%time\n",
    "values = list(range(250))\n",
    "results = []\n",
    "for x in values:\n",
    "    y = delayed(inc)(x)\n",
    "    results.append(y)\n",
    "    \n",
    "total = delayed(sum)(results)\n",
    "print(total.compute())\n",
    "```"
   ]
  },
  {
   "cell_type": "code",
   "execution_count": null,
   "id": "cd7406f9",
   "metadata": {
    "scrolled": true
   },
   "outputs": [],
   "source": []
  },
  {
   "cell_type": "code",
   "execution_count": null,
   "id": "74f8ca05",
   "metadata": {},
   "outputs": [],
   "source": []
  },
  {
   "cell_type": "markdown",
   "id": "da4b393a",
   "metadata": {},
   "source": [
    "## Referências\n",
    "\n",
    "- [Dask. Scale the Python tools you love.](https://docs.dask.org/en/stable/)  \n",
    "- [BOCHMAN, D. Dask: Machine Learning & Data Science Open-source Spotlight. Youtube.](https://www.youtube.com/watch?v=Alwgx_1qsj4&t=755s)"
   ]
  },
  {
   "cell_type": "code",
   "execution_count": null,
   "id": "f932d3cd",
   "metadata": {},
   "outputs": [],
   "source": []
  }
 ],
 "metadata": {
  "kernelspec": {
   "display_name": "Python 3 (ipykernel)",
   "language": "python",
   "name": "python3"
  },
  "language_info": {
   "codemirror_mode": {
    "name": "ipython",
    "version": 3
   },
   "file_extension": ".py",
   "mimetype": "text/x-python",
   "name": "python",
   "nbconvert_exporter": "python",
   "pygments_lexer": "ipython3",
   "version": "3.10.8"
  }
 },
 "nbformat": 4,
 "nbformat_minor": 5
}
