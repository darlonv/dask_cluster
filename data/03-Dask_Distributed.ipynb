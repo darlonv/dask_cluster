{
 "cells": [
  {
   "cell_type": "markdown",
   "id": "83b3fb49",
   "metadata": {},
   "source": [
    "# Dask Distribuído"
   ]
  },
  {
   "cell_type": "markdown",
   "id": "daa8fdb9",
   "metadata": {},
   "source": [
    "Além do processamento local utilizando *threads* ou processos, Dask possibilita que seu processamento seja realizado de maneira distribuída. Com isso, o processamento pode ser executado em máquinas remotas, seja em *cluster* de computadores ou máquinas alocadas utilizando recursos de computação em nuvem."
   ]
  },
  {
   "cell_type": "markdown",
   "id": "ba82e91c",
   "metadata": {},
   "source": [
    "Uma das formas realizar o processamento distribuído é conectando o ambiente a um *scheduler*. Com isto, o ambiente que processa o código gera o DAG e repassa a esse *scheduler*, que será responsável por distribuir as tarefas às máquinas que realizarão o processamento.\n",
    "\n",
    "Para executar o *scheduler*, execute no terminal\n",
    "\n",
    "```bash\n",
    "dask scheduler\n",
    "```"
   ]
  },
  {
   "cell_type": "code",
   "execution_count": 1,
   "id": "5552b6ce",
   "metadata": {},
   "outputs": [],
   "source": [
    "from dask.distributed import Client\n",
    "from dask import delayed\n",
    "from time import sleep"
   ]
  },
  {
   "cell_type": "markdown",
   "id": "1bb9450a",
   "metadata": {},
   "source": [
    "Em seguida, podemos conectar ao scheduler, passando seu endereço IP e porta:\n",
    "\n",
    "```python\n",
    "client = Client(f'scheduler:8786')\n",
    "```\n",
    "\n",
    "Neste caso, `scheduler` corresponde ao nome do Docker Container, que será resolvido para o respectivo endereço IP."
   ]
  },
  {
   "cell_type": "code",
   "execution_count": 2,
   "id": "057d52a5",
   "metadata": {},
   "outputs": [],
   "source": [
    "client = Client(f'scheduler:8786')"
   ]
  },
  {
   "cell_type": "markdown",
   "id": "cd624202",
   "metadata": {},
   "source": [
    "Até este ponto, não há nenhum *worker* ligado ao *scheduler*. \n",
    "\n",
    "```python\n",
    "client.nthreads\n",
    "```"
   ]
  },
  {
   "cell_type": "code",
   "execution_count": 3,
   "id": "e8542f1a",
   "metadata": {},
   "outputs": [
    {
     "data": {
      "text/plain": [
       "<bound method Client.nthreads of <Client: 'tcp://172.20.0.2:8786' processes=0 threads=0, memory=0 B>>"
      ]
     },
     "execution_count": 3,
     "metadata": {},
     "output_type": "execute_result"
    }
   ],
   "source": [
    "client.nthreads"
   ]
  },
  {
   "cell_type": "markdown",
   "id": "7a1aeb7b",
   "metadata": {},
   "source": [
    "Para tal, será necessário que outras máquinas conectectem ao *scheduler*, informando que são *workers*.\n",
    "\n",
    "```bash\n",
    "dask worker tcp://scheduler:8786\n",
    "```"
   ]
  },
  {
   "cell_type": "markdown",
   "id": "cf3cb0e5",
   "metadata": {},
   "source": [
    "Após criar os novos *containers* e definí-los como *workers*, podemos observar novamente os recursos associados:\n",
    "\n",
    "```python\n",
    "client.nthreads\n",
    "```"
   ]
  },
  {
   "cell_type": "code",
   "execution_count": 5,
   "id": "f8384dc7",
   "metadata": {},
   "outputs": [
    {
     "data": {
      "text/plain": [
       "<bound method Client.nthreads of <Client: 'tcp://172.20.0.2:8786' processes=2 threads=8, memory=2.00 GiB>>"
      ]
     },
     "execution_count": 5,
     "metadata": {},
     "output_type": "execute_result"
    }
   ],
   "source": [
    "client.nthreads"
   ]
  },
  {
   "cell_type": "code",
   "execution_count": null,
   "id": "3f1ffed6",
   "metadata": {},
   "outputs": [],
   "source": [
    "#Pelo nome do container\n",
    "client = Client(f'scheduler:8786')"
   ]
  },
  {
   "cell_type": "code",
   "execution_count": 3,
   "id": "13066eaf",
   "metadata": {},
   "outputs": [
    {
     "data": {
      "text/plain": [
       "<bound method Client.nthreads of <Client: 'tcp://127.0.0.1:38425' processes=4 threads=4, memory=7.60 GiB>>"
      ]
     },
     "execution_count": 3,
     "metadata": {},
     "output_type": "execute_result"
    }
   ],
   "source": [
    "client.nthreads"
   ]
  },
  {
   "cell_type": "code",
   "execution_count": null,
   "id": "04b85787",
   "metadata": {},
   "outputs": [],
   "source": [
    "client.dashboard_link"
   ]
  },
  {
   "cell_type": "code",
   "execution_count": null,
   "id": "a0dc501c",
   "metadata": {},
   "outputs": [],
   "source": [
    "def square(x):\n",
    "        return x ** 2\n",
    "\n",
    "def neg(x):\n",
    "        return -x"
   ]
  },
  {
   "cell_type": "code",
   "execution_count": null,
   "id": "1a3fbea0",
   "metadata": {},
   "outputs": [],
   "source": [
    "def inc(x):\n",
    "    print('.', end='')\n",
    "    sleep(1)\n",
    "    return x+1\n",
    "\n",
    "def add(x,y):\n",
    "    print('.', end='')\n",
    "    sleep(1)\n",
    "    return x+y"
   ]
  },
  {
   "cell_type": "code",
   "execution_count": null,
   "id": "d29ddfe0",
   "metadata": {},
   "outputs": [],
   "source": [
    "%%time\n",
    "x = delayed(inc)(1)\n",
    "y = delayed(inc)(2)\n",
    "z = delayed(add)(x,y)"
   ]
  },
  {
   "cell_type": "code",
   "execution_count": null,
   "id": "4e5af3a3",
   "metadata": {},
   "outputs": [],
   "source": [
    "z.compute()"
   ]
  },
  {
   "cell_type": "code",
   "execution_count": null,
   "id": "645250d4",
   "metadata": {},
   "outputs": [],
   "source": []
  }
 ],
 "metadata": {
  "kernelspec": {
   "display_name": "Python 3 (ipykernel)",
   "language": "python",
   "name": "python3"
  },
  "language_info": {
   "codemirror_mode": {
    "name": "ipython",
    "version": 3
   },
   "file_extension": ".py",
   "mimetype": "text/x-python",
   "name": "python",
   "nbconvert_exporter": "python",
   "pygments_lexer": "ipython3",
   "version": "3.10.8"
  }
 },
 "nbformat": 4,
 "nbformat_minor": 5
}
