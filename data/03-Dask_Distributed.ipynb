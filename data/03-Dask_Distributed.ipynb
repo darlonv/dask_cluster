{
 "cells": [
  {
   "cell_type": "markdown",
   "id": "83b3fb49",
   "metadata": {},
   "source": [
    "# Dask Distribuído"
   ]
  },
  {
   "cell_type": "markdown",
   "id": "daa8fdb9",
   "metadata": {},
   "source": [
    "Além do processamento local utilizando *threads* ou processos, Dask possibilita que seu processamento seja realizado de maneira distribuída. Com isso, o processamento pode ser executado em máquinas remotas, seja em *cluster* de computadores ou máquinas alocadas utilizando recursos de computação em nuvem."
   ]
  },
  {
   "cell_type": "markdown",
   "id": "ba82e91c",
   "metadata": {},
   "source": [
    "Uma das formas realizar o processamento distribuído é conectando o ambiente a um *scheduler*. Com isto, o ambiente que processa o código gera o DAG e repassa a esse *scheduler*, que será responsável por distribuir as tarefas às máquinas que realizarão o processamento.\n",
    "\n",
    "Para executar o *scheduler*, execute no terminal da máquina que será responsável pelo serviço de escalonamento.\n",
    "\n",
    "```bash\n",
    "dask scheduler\n",
    "```"
   ]
  },
  {
   "cell_type": "markdown",
   "id": "1bb9450a",
   "metadata": {},
   "source": [
    "Em seguida, podemos conectar ao scheduler, passando seu endereço IP e porta:\n",
    "\n",
    "```python\n",
    "from dask.distributed import Client\n",
    "client = Client(f'scheduler:8786')\n",
    "```\n",
    "\n",
    "Neste caso, `scheduler` corresponde ao nome do Docker Container, que será resolvido para o respectivo endereço IP."
   ]
  },
  {
   "cell_type": "code",
   "execution_count": 2,
   "id": "057d52a5",
   "metadata": {},
   "outputs": [],
   "source": [
    "client = Client(f'scheduler:8786')"
   ]
  },
  {
   "cell_type": "markdown",
   "id": "cd624202",
   "metadata": {},
   "source": [
    "Até este ponto, não há nenhum *worker* ligado ao *scheduler*. \n",
    "\n",
    "```python\n",
    "client.nthreads()\n",
    "```"
   ]
  },
  {
   "cell_type": "code",
   "execution_count": 3,
   "id": "e8542f1a",
   "metadata": {},
   "outputs": [
    {
     "data": {
      "text/plain": [
       "{'tcp://172.20.0.4:39337': 4,\n",
       " 'tcp://172.20.0.5:40031': 4,\n",
       " 'tcp://172.20.0.6:43959': 4,\n",
       " 'tcp://172.20.0.7:41489': 4,\n",
       " 'tcp://172.20.0.8:37745': 4}"
      ]
     },
     "execution_count": 3,
     "metadata": {},
     "output_type": "execute_result"
    }
   ],
   "source": []
  },
  {
   "cell_type": "markdown",
   "id": "510a6a0f",
   "metadata": {},
   "source": [
    "Para tal, será necessário que outras máquinas conectectem ao *scheduler*, informando que são *workers*. Para tal, execute no terminal das máquinas *workers* o comando abaixo. O comando pode ser executado em diversas máquinas.\n",
    "\n",
    "```bash\n",
    "dask worker tcp://scheduler:8786\n",
    "```"
   ]
  },
  {
   "cell_type": "markdown",
   "id": "a34a1e01",
   "metadata": {},
   "source": [
    "Após criar os novos *containers* e definí-los como *workers*, podemos observar novamente os recursos associados:\n",
    "\n",
    "```python\n",
    "client.nthreads()\n",
    "```"
   ]
  },
  {
   "cell_type": "code",
   "execution_count": 5,
   "id": "8330b90b",
   "metadata": {},
   "outputs": [
    {
     "data": {
      "text/plain": [
       "{'tcp://172.20.0.4:39337': 4,\n",
       " 'tcp://172.20.0.5:40031': 4,\n",
       " 'tcp://172.20.0.6:43959': 4,\n",
       " 'tcp://172.20.0.7:41489': 4,\n",
       " 'tcp://172.20.0.8:37745': 4}"
      ]
     },
     "execution_count": 5,
     "metadata": {},
     "output_type": "execute_result"
    }
   ],
   "source": []
  },
  {
   "cell_type": "markdown",
   "id": "f6733910",
   "metadata": {},
   "source": [
    "Pode-se também obter o *link* para o *dashboard* do *scheduler*.\n",
    "\n",
    "```python\n",
    "client.dashboard_link\n",
    "```"
   ]
  },
  {
   "cell_type": "code",
   "execution_count": 4,
   "id": "04b85787",
   "metadata": {
    "scrolled": false
   },
   "outputs": [
    {
     "data": {
      "text/plain": [
       "'http://scheduler:8787/status'"
      ]
     },
     "execution_count": 4,
     "metadata": {},
     "output_type": "execute_result"
    }
   ],
   "source": []
  },
  {
   "cell_type": "markdown",
   "id": "cc151bc8",
   "metadata": {},
   "source": [
    "Abrindo base localmente com Pandas\n",
    "\n",
    "```python\n",
    "from glob import glob\n",
    "import pandas as pd\n",
    "\n",
    "base_pd = pd.concat([pd.read_csv(base, sep=';') for base in glob('base/benef_sus/*.csv')])\n",
    "```"
   ]
  },
  {
   "cell_type": "code",
   "execution_count": null,
   "id": "aaddb9bd",
   "metadata": {},
   "outputs": [],
   "source": []
  },
  {
   "cell_type": "markdown",
   "id": "0404998e",
   "metadata": {},
   "source": [
    "Abrindo base de forma distribuída, utilizando Dask.\n",
    "\n",
    "```python\n",
    "import dask.dataframe as dd\n",
    "\n",
    "base_dask = dd.read_csv('base/benef_sus/*.csv', sep=';', \n",
    "                        dtype={'COD_CID': str,\n",
    "                              'COD_PROCEDIMENTO': str,\n",
    "                              'VL_PAGO_RESSARC':str,\n",
    "                              'ANO_ABI':str,\n",
    "                              'ESPECIALIDADE':str})\n",
    "\n",
    "```"
   ]
  },
  {
   "cell_type": "markdown",
   "id": "91046082",
   "metadata": {},
   "source": [
    "**Atividade**\n",
    "- Altere o tipo de dado da coluna `VL_ATENDIMENTO` para `float`\n",
    "<!-- \n",
    "```python\n",
    "base_dask['VL_ATENDIMENTO'] = base_dask['VL_ATENDIMENTO'].str.replace(',','.').astype(float)\n",
    "```\n",
    " -->"
   ]
  },
  {
   "cell_type": "code",
   "execution_count": null,
   "id": "4e4ad2fa",
   "metadata": {},
   "outputs": [],
   "source": []
  },
  {
   "cell_type": "markdown",
   "id": "5e637e61",
   "metadata": {},
   "source": [
    "**Exercícios**\n",
    "- Quantos tipos diferentes de `NATUREZA_ESTAB` estão presentes na base?\n",
    "<!-- \n",
    "```python\n",
    "base_dask['NATUREZA_ESTAB'].unique().count().compute()\n",
    "```\n",
    " -->"
   ]
  },
  {
   "cell_type": "code",
   "execution_count": null,
   "id": "44178df8",
   "metadata": {},
   "outputs": [],
   "source": []
  },
  {
   "cell_type": "markdown",
   "id": "2b7c003c",
   "metadata": {},
   "source": [
    "- Quantos atendimentos foram realizados por ano?\n",
    "<!-- \n",
    "```python\n",
    "base_dask['ANO_ABI'].value_counts().compute()\n",
    "```\n",
    " -->"
   ]
  },
  {
   "cell_type": "code",
   "execution_count": null,
   "id": "3f1a87fb",
   "metadata": {},
   "outputs": [],
   "source": []
  },
  {
   "cell_type": "markdown",
   "id": "80d56049",
   "metadata": {},
   "source": [
    "- Qual foi o total gasto com atendimento no ano de 2010?\n",
    "<!-- \n",
    "```python\n",
    "ano = '2001'\n",
    "base_ano = base_dask[base_dask['ANO_ABI'] == ano]\n",
    "total_ano = base_ano['VL_ATENDIMENTO'].sum()\n",
    "print(total_ano.compute())\n",
    "```\n",
    " -->\n",
    "- Observe o DAG gerado\n",
    "<!-- \n",
    "```python\n",
    "total_ano.visualize()\n",
    "```\n",
    " -->"
   ]
  },
  {
   "cell_type": "code",
   "execution_count": null,
   "id": "0ca90d1b",
   "metadata": {},
   "outputs": [],
   "source": []
  },
  {
   "cell_type": "code",
   "execution_count": null,
   "id": "ddd2aa8c",
   "metadata": {},
   "outputs": [],
   "source": []
  }
 ],
 "metadata": {
  "kernelspec": {
   "display_name": "Python 3 (ipykernel)",
   "language": "python",
   "name": "python3"
  },
  "language_info": {
   "codemirror_mode": {
    "name": "ipython",
    "version": 3
   },
   "file_extension": ".py",
   "mimetype": "text/x-python",
   "name": "python",
   "nbconvert_exporter": "python",
   "pygments_lexer": "ipython3",
   "version": "3.10.8"
  }
 },
 "nbformat": 4,
 "nbformat_minor": 5
}
