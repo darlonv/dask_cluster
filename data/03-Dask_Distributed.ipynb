{
 "cells": [
  {
   "cell_type": "markdown",
   "id": "83b3fb49",
   "metadata": {},
   "source": [
    "# Dask Distribuído"
   ]
  },
  {
   "cell_type": "markdown",
   "id": "daa8fdb9",
   "metadata": {},
   "source": [
    "Além do processamento local utilizando *threads* ou processos, Dask possibilita que seu processamento seja realizado de maneira distribuída. Com isso, o processamento pode ser executado em máquinas remotas, seja em *cluster* de computadores ou máquinas alocadas utilizando recursos de computação em nuvem."
   ]
  },
  {
   "cell_type": "markdown",
   "id": "ba82e91c",
   "metadata": {},
   "source": [
    "Uma das formas realizar o processamento distribuído é conectando o ambiente a um *scheduler*. Com isto, o ambiente que processa o código gera o DAG e repassa a esse *scheduler*, que será responsável por distribuir as tarefas às máquinas que realizarão o processamento.\n",
    "\n",
    "Para executar o *scheduler*, execute no terminal da máquina que será responsável pelo serviço de escalonamento.\n",
    "\n",
    "```bash\n",
    "dask scheduler\n",
    "```"
   ]
  },
  {
   "cell_type": "markdown",
   "id": "1bb9450a",
   "metadata": {},
   "source": [
    "Em seguida, podemos conectar ao scheduler, passando seu endereço IP e porta:\n",
    "\n",
    "```python\n",
    "from dask.distributed import Client\n",
    "client = Client(f'scheduler:8786')\n",
    "```\n",
    "\n",
    "Neste caso, `scheduler` corresponde ao nome do Docker Container, que será resolvido para o respectivo endereço IP."
   ]
  },
  {
   "cell_type": "code",
   "execution_count": null,
   "id": "057d52a5",
   "metadata": {},
   "outputs": [],
   "source": [
    "client = Client(f'scheduler:8786')"
   ]
  },
  {
   "cell_type": "markdown",
   "id": "cd624202",
   "metadata": {},
   "source": [
    "Até este ponto, não há nenhum *worker* ligado ao *scheduler*. \n",
    "\n",
    "```python\n",
    "client.nthreads()\n",
    "```"
   ]
  },
  {
   "cell_type": "code",
   "execution_count": null,
   "id": "e8542f1a",
   "metadata": {},
   "outputs": [],
   "source": []
  },
  {
   "cell_type": "markdown",
   "id": "510a6a0f",
   "metadata": {},
   "source": [
    "Para tal, será necessário que outras máquinas conectectem ao *scheduler*, informando que são *workers*. Para tal, execute no terminal das máquinas *workers* o comando abaixo. O comando pode ser executado em diversas máquinas.\n",
    "\n",
    "```bash\n",
    "dask worker tcp://scheduler:8786\n",
    "```"
   ]
  },
  {
   "cell_type": "markdown",
   "id": "a34a1e01",
   "metadata": {},
   "source": [
    "Após criar os novos *containers* e definí-los como *workers*, podemos observar novamente os recursos associados:\n",
    "\n",
    "```python\n",
    "client.nthreads()\n",
    "```"
   ]
  },
  {
   "cell_type": "code",
   "execution_count": null,
   "id": "8330b90b",
   "metadata": {},
   "outputs": [],
   "source": []
  },
  {
   "cell_type": "markdown",
   "id": "f6733910",
   "metadata": {},
   "source": [
    "Pode-se também obter o *link* para o *dashboard* do *scheduler*.\n",
    "\n",
    "```python\n",
    "client.dashboard_link\n",
    "```"
   ]
  },
  {
   "cell_type": "code",
   "execution_count": null,
   "id": "04b85787",
   "metadata": {
    "scrolled": false
   },
   "outputs": [],
   "source": []
  },
  {
   "cell_type": "markdown",
   "id": "ed8c0cc1",
   "metadata": {},
   "source": [
    "Abrindo base localmente com Pandas\n",
    "\n",
    "```python\n",
    "from glob import glob\n",
    "import pandas as pd\n",
    "\n",
    "base_pd = pd.concat([pd.read_csv(base, sep=';') for base in glob('base/benef_sus/*.csv')])\n",
    "```"
   ]
  },
  {
   "cell_type": "code",
   "execution_count": null,
   "id": "aaddb9bd",
   "metadata": {},
   "outputs": [],
   "source": []
  },
  {
   "cell_type": "markdown",
   "id": "a1a92300",
   "metadata": {},
   "source": [
    "Abrindo base de forma distribuída, utilizando Dask.\n",
    "\n",
    "```python\n",
    "import dask.dataframe as dd\n",
    "\n",
    "base_dask = dd.read_csv('base/benef_sus/*.csv', sep=';', \n",
    "                        dtype={'COD_CID': str,\n",
    "                              'COD_PROCEDIMENTO': str,\n",
    "                              'VL_PAGO_RESSARC':str,\n",
    "                              'ANO_ABI':str,\n",
    "                              'ESPECIALIDADE':str})\n",
    "\n",
    "```"
   ]
  },
  {
   "cell_type": "markdown",
   "id": "990017ae",
   "metadata": {},
   "source": [
    "**Atividade**\n",
    "- Altere o tipo de dado da coluna `VL_ATENDIMENTO` para `float`\n",
    "<!-- \n",
    "```python\n",
    "base_dask['VL_ATENDIMENTO'] = base_dask['VL_ATENDIMENTO'].str.replace(',','.').astype(float)\n",
    "```\n",
    " -->"
   ]
  },
  {
   "cell_type": "code",
   "execution_count": null,
   "id": "ff00d95d",
   "metadata": {},
   "outputs": [],
   "source": []
  },
  {
   "cell_type": "markdown",
   "id": "96026c05",
   "metadata": {},
   "source": [
    "**Exercícios**\n",
    "- Quantos tipos diferentes de `NATUREZA_ESTAB` estão presentes na base?\n",
    "<!-- \n",
    "```python\n",
    "base_dask['NATUREZA_ESTAB'].unique().count().compute()\n",
    "```\n",
    " -->"
   ]
  },
  {
   "cell_type": "code",
   "execution_count": null,
   "id": "7da32a8f",
   "metadata": {},
   "outputs": [],
   "source": []
  },
  {
   "cell_type": "markdown",
   "id": "c36e3cd6",
   "metadata": {},
   "source": [
    "- Quantos atendimentos foram realizados por ano?\n",
    "<!-- \n",
    "```python\n",
    "base_dask['ANO_ABI'].value_counts().compute()\n",
    "```\n",
    " -->"
   ]
  },
  {
   "cell_type": "code",
   "execution_count": null,
   "id": "687d72f8",
   "metadata": {},
   "outputs": [],
   "source": []
  },
  {
   "cell_type": "markdown",
   "id": "712268b3",
   "metadata": {},
   "source": [
    "- Qual foi o total gasto com atendimento no ano de 2010?\n",
    "<!-- \n",
    "```python\n",
    "ano = '2001'\n",
    "base_ano = base_dask[base_dask['ANO_ABI'] == ano]\n",
    "total_ano = base_ano['VL_ATENDIMENTO'].sum()\n",
    "print(total_ano.compute())\n",
    "```\n",
    " -->\n",
    "- Observe o DAG gerado\n",
    "<!-- \n",
    "```python\n",
    "total_ano.visualize()\n",
    "```\n",
    " -->"
   ]
  },
  {
   "cell_type": "code",
   "execution_count": null,
   "id": "4803e55e",
   "metadata": {},
   "outputs": [],
   "source": []
  },
  {
   "cell_type": "code",
   "execution_count": null,
   "id": "5083e15d",
   "metadata": {},
   "outputs": [],
   "source": []
  }
 ],
 "metadata": {
  "kernelspec": {
   "display_name": "Python 3 (ipykernel)",
   "language": "python",
   "name": "python3"
  },
  "language_info": {
   "codemirror_mode": {
    "name": "ipython",
    "version": 3
   },
   "file_extension": ".py",
   "mimetype": "text/x-python",
   "name": "python",
   "nbconvert_exporter": "python",
   "pygments_lexer": "ipython3",
   "version": "3.10.8"
  }
 },
 "nbformat": 4,
 "nbformat_minor": 5
}
